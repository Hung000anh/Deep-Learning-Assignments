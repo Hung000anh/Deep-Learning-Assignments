{
 "cells": [
  {
   "attachments": {},
   "cell_type": "markdown",
   "id": "725fc2da-6bfe-4e06-8495-c789b8829b01",
   "metadata": {},
   "source": [
    "# Bài tập\n",
    "Dùng keras để xây dựng mô hình deep learning để nhận dạng logo của các hãng xe.<br>\n",
    "Có 8 loại logo cần nhận dạng như sau:<br>\n",
    "<img src=\"logo_classes.png\" alt=\"Classes\" style=\"width:224px; heoght:224px\"/><br>\n",
    "Ảnh ví dụ để test mô hình, kích thước của ảnh test sẽ được scale về <strong>224x224</strong>:<br>\n",
    "<img src=\"Lexus.jpg\" alt=\"Lexus\" style=\"width:224px; heoght:224px\"/><br>"
   ]
  }
 ],
 "metadata": {
  "kernelspec": {
   "display_name": "Python 3 (ipykernel)",
   "language": "python",
   "name": "python3"
  },
  "language_info": {
   "codemirror_mode": {
    "name": "ipython",
    "version": 3
   },
   "file_extension": ".py",
   "mimetype": "text/x-python",
   "name": "python",
   "nbconvert_exporter": "python",
   "pygments_lexer": "ipython3",
   "version": "3.11.11"
  }
 },
 "nbformat": 4,
 "nbformat_minor": 5
}
