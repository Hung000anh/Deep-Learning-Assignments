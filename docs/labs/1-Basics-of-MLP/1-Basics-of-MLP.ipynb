{
 "cells": [
  {
   "cell_type": "markdown",
   "metadata": {
    "id": "R3ZUg9kaiLlU"
   },
   "source": [
    "# Basics of MLP\n",
    "- Objective: create vanilla neural networks (i.e., Multilayer perceptrons) for simple regression/classification tasks with Keras"
   ]
  },
  {
   "cell_type": "markdown",
   "metadata": {
    "id": "zsNVtV-YiLlW"
   },
   "source": [
    "## MLP Structures\n",
    "- Each MLP model is consisted of one input layer, several hidden layers, and one output layer\n",
    "- Number of neurons in each layer is not limited\n",
    "<img src=\"http://cs231n.github.io/assets/nn1/neural_net.jpeg\" style=\"width: 300px\"/>\n",
    "<br>\n",
    "<center>**MLP with one hidden layer**</center>\n",
    "- Number of input neurons: 3\n",
    "- Number of hidden neurons: 4\n",
    "- Number of output neurons: 2\n"
   ]
  },
  {
   "cell_type": "markdown",
   "metadata": {
    "id": "zrCUwYZoiLlX"
   },
   "source": [
    "<img src=\"http://cs231n.github.io/assets/nn1/neural_net2.jpeg\" style=\"width: 500px\"/>\n",
    "<br>\n",
    "<center>**MLP with two hidden layers**</center>\n",
    "- Number of input neurons: 3\n",
    "- Number of hidden neurons: (4, 4)\n",
    "- Number of output neurons: 1\n"
   ]
  },
  {
   "cell_type": "markdown",
   "metadata": {
    "id": "zBUeparxiLlY"
   },
   "source": [
    "## MLP for Regression tasks\n",
    "- When the target (**y**) is continuous (real)\n",
    "- For loss function and evaluation metric, mean squared error (MSE) is commonly used"
   ]
  },
  {
   "cell_type": "code",
   "execution_count": 1,
   "metadata": {
    "id": "lF3od_oiiLla"
   },
   "outputs": [],
   "source": [
    "from tensorflow.keras.datasets import boston_housing"
   ]
  },
  {
   "cell_type": "code",
   "execution_count": 2,
   "metadata": {
    "id": "6UZHWnCFiLli"
   },
   "outputs": [],
   "source": [
    "(X_train, y_train), (X_test, y_test) = boston_housing.load_data()"
   ]
  },
  {
   "cell_type": "markdown",
   "metadata": {
    "id": "ex6l3HwMiLlm"
   },
   "source": [
    "### Dataset Description\n",
    "- Boston housing dataset has total 506 data instances (404 training & 102 test)\n",
    "- 13 attributes (features) to predict \"the median values of the houses at a location\"\n",
    "- Doc: https://keras.io/datasets/"
   ]
  },
  {
   "cell_type": "markdown",
   "metadata": {},
   "source": [
    "The Boston Housing Dataset\n",
    "\n",
    "The Boston Housing Dataset is a derived from information collected by the U.S. Census Service concerning housing in the area of Boston MA. The following describes the dataset columns:\n",
    "\n",
    "- CRIM - per capita crime rate by town\n",
    "- ZN - proportion of residential land zoned for lots over 25,000 sq.ft.\n",
    "- INDUS - proportion of non-retail business acres per town\n",
    "- CHAS - Charles River dummy variable (1 if tract bounds river; 0 otherwise)\n",
    "- NOX - nitric oxides concentration (parts per 10 million)\n",
    "- RM - average number of rooms per dwelling\n",
    "- AGE - proportion of owner-occupied units built prior to 1940\n",
    "- DIS - weighted distances to five Boston employment centres\n",
    "- RAD - index of accessibility to radial highways\n",
    "- TAX - full-value property-tax rate per $10,000\n",
    "- PTRATIO - pupil-teacher ratio by town\n",
    "- B - 1000(Bk - 0.63)^2 where Bk is the proportion of blacks by town\n",
    "- LSTAT - \\% lower status of the population\n",
    "- MEDV - Median value of owner-occupied homes in \\$1000's\n",
    "\n",
    "\n",
    "\n",
    "<img src=\"images/boston_house_price.png\">"
   ]
  },
  {
   "cell_type": "code",
   "execution_count": 3,
   "metadata": {
    "colab": {
     "base_uri": "https://localhost:8080/"
    },
    "executionInfo": {
     "elapsed": 667,
     "status": "ok",
     "timestamp": 1604615545813,
     "user": {
      "displayName": "Buomsoo Kim",
      "photoUrl": "",
      "userId": "18268696804115368229"
     },
     "user_tz": 420
    },
    "id": "fNoiTI7riLln",
    "outputId": "8f705f12-2a42-4de3-8e1f-5e56f540294f"
   },
   "outputs": [
    {
     "name": "stdout",
     "output_type": "stream",
     "text": [
      "(404, 13)\n",
      "(102, 13)\n",
      "(404,)\n",
      "(102,)\n"
     ]
    }
   ],
   "source": [
    "print(X_train.shape)\n",
    "print(X_test.shape)\n",
    "print(y_train.shape)\n",
    "print(y_test.shape)"
   ]
  },
  {
   "cell_type": "markdown",
   "metadata": {
    "id": "JOYtmK73iLlr"
   },
   "source": [
    "### 1. Creating a model\n",
    "- Keras model object can be created with Sequential class\n",
    "- At the outset, the model is empty per se. It is completed by **'adding'** additional layers and compilation\n",
    "- Doc: https://keras.io/models/sequential/"
   ]
  },
  {
   "cell_type": "code",
   "execution_count": 4,
   "metadata": {
    "executionInfo": {
     "elapsed": 2011,
     "status": "ok",
     "timestamp": 1604684692159,
     "user": {
      "displayName": "Buomsoo Kim",
      "photoUrl": "",
      "userId": "18268696804115368229"
     },
     "user_tz": 420
    },
    "id": "acq8TcfNiLls"
   },
   "outputs": [],
   "source": [
    "from tensorflow.keras.models import Sequential"
   ]
  },
  {
   "cell_type": "code",
   "execution_count": 5,
   "metadata": {
    "id": "oNniEkDfiLlv"
   },
   "outputs": [],
   "source": [
    "model = Sequential()"
   ]
  },
  {
   "cell_type": "markdown",
   "metadata": {
    "id": "NZnKUkU7iLl3"
   },
   "source": [
    "### 1-1. Adding layers\n",
    "- Keras layers can be **added** to the model\n",
    "- Adding layers are like stacking lego blocks one by one\n",
    "- Doc: https://keras.io/layers/core/"
   ]
  },
  {
   "cell_type": "code",
   "execution_count": 6,
   "metadata": {
    "executionInfo": {
     "elapsed": 2008,
     "status": "ok",
     "timestamp": 1604684692162,
     "user": {
      "displayName": "Buomsoo Kim",
      "photoUrl": "",
      "userId": "18268696804115368229"
     },
     "user_tz": 420
    },
    "id": "kqmgQvhbiLl4"
   },
   "outputs": [],
   "source": [
    "from tensorflow.keras.layers import Activation, Dense"
   ]
  },
  {
   "cell_type": "code",
   "execution_count": 7,
   "metadata": {
    "id": "uioANxXniLl9"
   },
   "outputs": [],
   "source": [
    "# Keras model with two hidden layer with 10 neurons each \n",
    "model.add(Dense(10, input_shape = (13,)))    # Input layer => input_shape should be explicitly designated\n",
    "model.add(Activation('sigmoid'))\n",
    "model.add(Dense(10))                         # Hidden layer => only output dimension should be designated\n",
    "model.add(Activation('sigmoid'))\n",
    "model.add(Dense(10))                         # Hidden layer => only output dimension should be designated\n",
    "model.add(Activation('sigmoid'))\n",
    "model.add(Dense(1))                          # Output layer => output dimension = 1 since it is regression problem"
   ]
  },
  {
   "cell_type": "markdown",
   "metadata": {
    "id": "6oiel4R4iLmA"
   },
   "source": [
    "# This is equivalent to the above code block\n",
    "model.add(Dense(10, input_shape = (13,), activation = 'sigmoid')) \\\n",
    "model.add(Dense(10, activation = 'sigmoid')) \\\n",
    "model.add(Dense(10, activation = 'sigmoid')) \\\n",
    "model.add(Dense(1))"
   ]
  },
  {
   "cell_type": "markdown",
   "metadata": {
    "id": "j3myo_gwiLmD"
   },
   "source": [
    "### 1-2. Model compile\n",
    "- Keras model should be \"compiled\" prior to training\n",
    "- Types of loss (function) and optimizer should be designated\n",
    "    - Doc (optimizers): https://keras.io/optimizers/\n",
    "    - Doc (losses): https://keras.io/losses/"
   ]
  },
  {
   "cell_type": "code",
   "execution_count": 8,
   "metadata": {
    "id": "Z35lcQ9wiLmD"
   },
   "outputs": [],
   "source": [
    "from tensorflow.keras import optimizers"
   ]
  },
  {
   "cell_type": "code",
   "execution_count": 9,
   "metadata": {
    "id": "G7CnpfQYiLmF"
   },
   "outputs": [],
   "source": [
    "sgd = optimizers.SGD(learning_rate=0.01, momentum = 0.0)    # stochastic gradient descent optimizer"
   ]
  },
  {
   "cell_type": "code",
   "execution_count": 10,
   "metadata": {
    "id": "smk7k7S3iLmI"
   },
   "outputs": [],
   "source": [
    "model.compile(optimizer = sgd, loss = 'mean_squared_error', metrics = ['mse'])    # for regression problems, mean squared error (MSE) is often employed"
   ]
  },
  {
   "cell_type": "markdown",
   "metadata": {
    "id": "Y8bYluaBiLmM"
   },
   "source": [
    "### Summary of the model"
   ]
  },
  {
   "cell_type": "code",
   "execution_count": 11,
   "metadata": {
    "colab": {
     "base_uri": "https://localhost:8080/"
    },
    "executionInfo": {
     "elapsed": 604,
     "status": "ok",
     "timestamp": 1604615575002,
     "user": {
      "displayName": "Buomsoo Kim",
      "photoUrl": "",
      "userId": "18268696804115368229"
     },
     "user_tz": 420
    },
    "id": "frQTX4-_iLmM",
    "outputId": "8b39e2c7-3fba-4f8f-b26d-3d29a50af263"
   },
   "outputs": [
    {
     "name": "stdout",
     "output_type": "stream",
     "text": [
      "Model: \"sequential\"\n",
      "_________________________________________________________________\n",
      " Layer (type)                Output Shape              Param #   \n",
      "=================================================================\n",
      " dense (Dense)               (None, 10)                140       \n",
      "                                                                 \n",
      " activation (Activation)     (None, 10)                0         \n",
      "                                                                 \n",
      " dense_1 (Dense)             (None, 10)                110       \n",
      "                                                                 \n",
      " activation_1 (Activation)   (None, 10)                0         \n",
      "                                                                 \n",
      " dense_2 (Dense)             (None, 10)                110       \n",
      "                                                                 \n",
      " activation_2 (Activation)   (None, 10)                0         \n",
      "                                                                 \n",
      " dense_3 (Dense)             (None, 1)                 11        \n",
      "                                                                 \n",
      "=================================================================\n",
      "Total params: 371\n",
      "Trainable params: 371\n",
      "Non-trainable params: 0\n",
      "_________________________________________________________________\n"
     ]
    }
   ],
   "source": [
    "model.summary()"
   ]
  },
  {
   "cell_type": "markdown",
   "metadata": {
    "id": "hqXWTsCqiLmO"
   },
   "source": [
    "### 2. Training\n",
    "- Training the model with training data provided"
   ]
  },
  {
   "cell_type": "code",
   "execution_count": 12,
   "metadata": {
    "colab": {
     "base_uri": "https://localhost:8080/"
    },
    "executionInfo": {
     "elapsed": 3253,
     "status": "ok",
     "timestamp": 1604615580871,
     "user": {
      "displayName": "Buomsoo Kim",
      "photoUrl": "",
      "userId": "18268696804115368229"
     },
     "user_tz": 420
    },
    "id": "pemL_26CiLmP",
    "outputId": "e739ab33-83e7-4ec5-d3c9-ea8b404a64d4"
   },
   "outputs": [
    {
     "name": "stdout",
     "output_type": "stream",
     "text": [
      "Epoch 1/100\n",
      "9/9 [==============================] - 1s 6ms/step - loss: 370.4683 - mse: 370.4683\n",
      "Epoch 2/100\n",
      "9/9 [==============================] - 0s 5ms/step - loss: 97.4343 - mse: 97.4343\n",
      "Epoch 3/100\n",
      "9/9 [==============================] - 0s 15ms/step - loss: 82.9126 - mse: 82.9126\n",
      "Epoch 4/100\n",
      "9/9 [==============================] - 0s 3ms/step - loss: 82.5870 - mse: 82.5870\n",
      "Epoch 5/100\n",
      "9/9 [==============================] - 0s 3ms/step - loss: 81.9535 - mse: 81.9535\n",
      "Epoch 6/100\n",
      "9/9 [==============================] - 0s 3ms/step - loss: 82.0208 - mse: 82.0208\n",
      "Epoch 7/100\n",
      "9/9 [==============================] - 0s 2ms/step - loss: 82.2281 - mse: 82.2281\n",
      "Epoch 8/100\n",
      "9/9 [==============================] - 0s 3ms/step - loss: 83.0246 - mse: 83.0246\n",
      "Epoch 9/100\n",
      "9/9 [==============================] - 0s 3ms/step - loss: 82.0493 - mse: 82.0493\n",
      "Epoch 10/100\n",
      "9/9 [==============================] - 0s 3ms/step - loss: 81.6123 - mse: 81.6123\n",
      "Epoch 11/100\n",
      "9/9 [==============================] - 0s 3ms/step - loss: 81.3327 - mse: 81.3327\n",
      "Epoch 12/100\n",
      "9/9 [==============================] - 0s 3ms/step - loss: 81.0327 - mse: 81.0327\n",
      "Epoch 13/100\n",
      "9/9 [==============================] - 0s 3ms/step - loss: 79.6903 - mse: 79.6903\n",
      "Epoch 14/100\n",
      "9/9 [==============================] - 0s 2ms/step - loss: 83.0750 - mse: 83.0750\n",
      "Epoch 15/100\n",
      "9/9 [==============================] - 0s 3ms/step - loss: 81.3715 - mse: 81.3715\n",
      "Epoch 16/100\n",
      "9/9 [==============================] - 0s 3ms/step - loss: 80.9218 - mse: 80.9218\n",
      "Epoch 17/100\n",
      "9/9 [==============================] - 0s 2ms/step - loss: 79.9956 - mse: 79.9956\n",
      "Epoch 18/100\n",
      "9/9 [==============================] - 0s 2ms/step - loss: 77.2660 - mse: 77.2660\n",
      "Epoch 19/100\n",
      "9/9 [==============================] - 0s 3ms/step - loss: 79.1659 - mse: 79.1659\n",
      "Epoch 20/100\n",
      "9/9 [==============================] - 0s 2ms/step - loss: 79.7113 - mse: 79.7113\n",
      "Epoch 21/100\n",
      "9/9 [==============================] - 0s 2ms/step - loss: 83.7692 - mse: 83.7692\n",
      "Epoch 22/100\n",
      "9/9 [==============================] - 0s 2ms/step - loss: 85.3750 - mse: 85.3750\n",
      "Epoch 23/100\n",
      "9/9 [==============================] - 0s 3ms/step - loss: 79.8935 - mse: 79.8935\n",
      "Epoch 24/100\n",
      "9/9 [==============================] - 0s 3ms/step - loss: 79.9700 - mse: 79.9700\n",
      "Epoch 25/100\n",
      "9/9 [==============================] - 0s 3ms/step - loss: 79.4329 - mse: 79.4329\n",
      "Epoch 26/100\n",
      "9/9 [==============================] - 0s 4ms/step - loss: 80.5943 - mse: 80.5943\n",
      "Epoch 27/100\n",
      "9/9 [==============================] - 0s 3ms/step - loss: 78.9596 - mse: 78.9596\n",
      "Epoch 28/100\n",
      "9/9 [==============================] - 0s 3ms/step - loss: 79.0251 - mse: 79.0251\n",
      "Epoch 29/100\n",
      "9/9 [==============================] - 0s 3ms/step - loss: 78.3270 - mse: 78.3270\n",
      "Epoch 30/100\n",
      "9/9 [==============================] - 0s 4ms/step - loss: 78.3239 - mse: 78.3239\n",
      "Epoch 31/100\n",
      "9/9 [==============================] - 0s 3ms/step - loss: 78.9880 - mse: 78.9880\n",
      "Epoch 32/100\n",
      "9/9 [==============================] - 0s 3ms/step - loss: 78.1654 - mse: 78.1654\n",
      "Epoch 33/100\n",
      "9/9 [==============================] - 0s 2ms/step - loss: 78.6842 - mse: 78.6842\n",
      "Epoch 34/100\n",
      "9/9 [==============================] - 0s 2ms/step - loss: 78.0330 - mse: 78.0330\n",
      "Epoch 35/100\n",
      "9/9 [==============================] - 0s 2ms/step - loss: 77.8416 - mse: 77.8416\n",
      "Epoch 36/100\n",
      "9/9 [==============================] - 0s 3ms/step - loss: 77.5582 - mse: 77.5582\n",
      "Epoch 37/100\n",
      "9/9 [==============================] - 0s 3ms/step - loss: 77.7760 - mse: 77.7760\n",
      "Epoch 38/100\n",
      "9/9 [==============================] - 0s 2ms/step - loss: 77.6892 - mse: 77.6892\n",
      "Epoch 39/100\n",
      "9/9 [==============================] - 0s 3ms/step - loss: 78.2385 - mse: 78.2385\n",
      "Epoch 40/100\n",
      "9/9 [==============================] - 0s 3ms/step - loss: 77.9017 - mse: 77.9017\n",
      "Epoch 41/100\n",
      "9/9 [==============================] - 0s 3ms/step - loss: 77.4464 - mse: 77.4464\n",
      "Epoch 42/100\n",
      "9/9 [==============================] - 0s 3ms/step - loss: 77.4976 - mse: 77.4976\n",
      "Epoch 43/100\n",
      "9/9 [==============================] - 0s 3ms/step - loss: 77.9339 - mse: 77.9339\n",
      "Epoch 44/100\n",
      "9/9 [==============================] - 0s 3ms/step - loss: 77.5735 - mse: 77.5735\n",
      "Epoch 45/100\n",
      "9/9 [==============================] - 0s 3ms/step - loss: 78.0827 - mse: 78.0827\n",
      "Epoch 46/100\n",
      "9/9 [==============================] - 0s 2ms/step - loss: 78.1654 - mse: 78.1654\n",
      "Epoch 47/100\n",
      "9/9 [==============================] - 0s 2ms/step - loss: 77.7625 - mse: 77.7625\n",
      "Epoch 48/100\n",
      "9/9 [==============================] - 0s 2ms/step - loss: 77.6776 - mse: 77.6776\n",
      "Epoch 49/100\n",
      "9/9 [==============================] - 0s 3ms/step - loss: 77.2835 - mse: 77.2835\n",
      "Epoch 50/100\n",
      "9/9 [==============================] - 0s 3ms/step - loss: 78.0458 - mse: 78.0458\n",
      "Epoch 51/100\n",
      "9/9 [==============================] - 0s 2ms/step - loss: 77.2519 - mse: 77.2519\n",
      "Epoch 52/100\n",
      "9/9 [==============================] - 0s 3ms/step - loss: 77.1253 - mse: 77.1253\n",
      "Epoch 53/100\n",
      "9/9 [==============================] - 0s 3ms/step - loss: 77.9247 - mse: 77.9247\n",
      "Epoch 54/100\n",
      "9/9 [==============================] - 0s 3ms/step - loss: 77.3981 - mse: 77.3981\n",
      "Epoch 55/100\n",
      "9/9 [==============================] - 0s 3ms/step - loss: 77.9429 - mse: 77.9429\n",
      "Epoch 56/100\n",
      "9/9 [==============================] - 0s 3ms/step - loss: 77.9239 - mse: 77.9239\n",
      "Epoch 57/100\n",
      "9/9 [==============================] - 0s 3ms/step - loss: 77.9604 - mse: 77.9604\n",
      "Epoch 58/100\n",
      "9/9 [==============================] - 0s 2ms/step - loss: 77.4130 - mse: 77.4130\n",
      "Epoch 59/100\n",
      "9/9 [==============================] - 0s 3ms/step - loss: 77.3009 - mse: 77.3009\n",
      "Epoch 60/100\n",
      "9/9 [==============================] - 0s 2ms/step - loss: 77.2731 - mse: 77.2731\n",
      "Epoch 61/100\n",
      "9/9 [==============================] - 0s 2ms/step - loss: 77.2183 - mse: 77.2183\n",
      "Epoch 62/100\n",
      "9/9 [==============================] - 0s 3ms/step - loss: 79.1836 - mse: 79.1836\n",
      "Epoch 63/100\n",
      "9/9 [==============================] - 0s 3ms/step - loss: 77.3946 - mse: 77.3946\n",
      "Epoch 64/100\n",
      "9/9 [==============================] - 0s 2ms/step - loss: 77.1948 - mse: 77.1948\n",
      "Epoch 65/100\n",
      "9/9 [==============================] - 0s 3ms/step - loss: 77.4768 - mse: 77.4768\n",
      "Epoch 66/100\n",
      "9/9 [==============================] - 0s 3ms/step - loss: 75.1530 - mse: 75.1530\n",
      "Epoch 67/100\n",
      "9/9 [==============================] - 0s 3ms/step - loss: 70.1684 - mse: 70.1684\n",
      "Epoch 68/100\n",
      "9/9 [==============================] - 0s 3ms/step - loss: 70.1263 - mse: 70.1263\n",
      "Epoch 69/100\n",
      "9/9 [==============================] - 0s 3ms/step - loss: 71.1890 - mse: 71.1890\n",
      "Epoch 70/100\n",
      "9/9 [==============================] - 0s 3ms/step - loss: 70.0023 - mse: 70.0023\n",
      "Epoch 71/100\n",
      "9/9 [==============================] - 0s 2ms/step - loss: 70.1396 - mse: 70.1396\n",
      "Epoch 72/100\n",
      "9/9 [==============================] - 0s 2ms/step - loss: 69.7362 - mse: 69.7362\n",
      "Epoch 73/100\n",
      "9/9 [==============================] - 0s 2ms/step - loss: 70.1298 - mse: 70.1298\n",
      "Epoch 74/100\n",
      "9/9 [==============================] - 0s 3ms/step - loss: 69.4561 - mse: 69.4561\n",
      "Epoch 75/100\n",
      "9/9 [==============================] - 0s 2ms/step - loss: 69.3347 - mse: 69.3347\n",
      "Epoch 76/100\n",
      "9/9 [==============================] - 0s 3ms/step - loss: 69.6611 - mse: 69.6611\n",
      "Epoch 77/100\n",
      "9/9 [==============================] - 0s 3ms/step - loss: 72.4903 - mse: 72.4903\n",
      "Epoch 78/100\n",
      "9/9 [==============================] - 0s 3ms/step - loss: 70.5824 - mse: 70.5824\n",
      "Epoch 79/100\n",
      "9/9 [==============================] - 0s 3ms/step - loss: 70.9807 - mse: 70.9807\n",
      "Epoch 80/100\n",
      "9/9 [==============================] - 0s 3ms/step - loss: 70.8518 - mse: 70.8518\n",
      "Epoch 81/100\n",
      "9/9 [==============================] - 0s 3ms/step - loss: 71.6201 - mse: 71.6201\n",
      "Epoch 82/100\n",
      "9/9 [==============================] - 0s 3ms/step - loss: 70.8391 - mse: 70.8391\n",
      "Epoch 83/100\n",
      "9/9 [==============================] - 0s 3ms/step - loss: 70.6437 - mse: 70.6437\n",
      "Epoch 84/100\n",
      "9/9 [==============================] - 0s 2ms/step - loss: 70.6777 - mse: 70.6777\n",
      "Epoch 85/100\n",
      "9/9 [==============================] - 0s 3ms/step - loss: 70.6048 - mse: 70.6048\n",
      "Epoch 86/100\n",
      "9/9 [==============================] - 0s 2ms/step - loss: 71.1031 - mse: 71.1031\n",
      "Epoch 87/100\n",
      "9/9 [==============================] - 0s 2ms/step - loss: 70.4498 - mse: 70.4498\n",
      "Epoch 88/100\n",
      "9/9 [==============================] - 0s 3ms/step - loss: 70.9111 - mse: 70.9111\n",
      "Epoch 89/100\n",
      "9/9 [==============================] - 0s 2ms/step - loss: 70.5377 - mse: 70.5377\n",
      "Epoch 90/100\n",
      "9/9 [==============================] - 0s 3ms/step - loss: 70.6276 - mse: 70.6276\n",
      "Epoch 91/100\n",
      "9/9 [==============================] - 0s 3ms/step - loss: 70.5628 - mse: 70.5628\n",
      "Epoch 92/100\n",
      "9/9 [==============================] - 0s 2ms/step - loss: 70.7267 - mse: 70.7267\n",
      "Epoch 93/100\n",
      "9/9 [==============================] - 0s 3ms/step - loss: 71.3622 - mse: 71.3622\n",
      "Epoch 94/100\n",
      "9/9 [==============================] - 0s 3ms/step - loss: 70.8105 - mse: 70.8105\n",
      "Epoch 95/100\n",
      "9/9 [==============================] - 0s 3ms/step - loss: 71.0412 - mse: 71.0412\n",
      "Epoch 96/100\n",
      "9/9 [==============================] - 0s 3ms/step - loss: 70.2680 - mse: 70.2680\n",
      "Epoch 97/100\n",
      "9/9 [==============================] - 0s 3ms/step - loss: 70.9031 - mse: 70.9031\n",
      "Epoch 98/100\n",
      "9/9 [==============================] - 0s 2ms/step - loss: 74.9716 - mse: 74.9716\n",
      "Epoch 99/100\n",
      "9/9 [==============================] - 0s 3ms/step - loss: 70.9910 - mse: 70.9910\n",
      "Epoch 100/100\n",
      "9/9 [==============================] - 0s 3ms/step - loss: 71.2325 - mse: 71.2325\n"
     ]
    },
    {
     "data": {
      "text/plain": [
       "<keras.callbacks.History at 0x16225a09410>"
      ]
     },
     "execution_count": 12,
     "metadata": {},
     "output_type": "execute_result"
    }
   ],
   "source": [
    "model.fit(X_train, y_train, batch_size = 50, epochs = 100, verbose = 1)"
   ]
  },
  {
   "cell_type": "markdown",
   "metadata": {
    "id": "mGcfiiEhiLmU"
   },
   "source": [
    "### 3. Evaluation\n",
    "- Keras model can be evaluated with evaluate() function\n",
    "- Evaluation results are contained in a list\n",
    "    - Doc (metrics): https://keras.io/metrics/"
   ]
  },
  {
   "cell_type": "code",
   "execution_count": 13,
   "metadata": {
    "colab": {
     "base_uri": "https://localhost:8080/"
    },
    "executionInfo": {
     "elapsed": 699,
     "status": "ok",
     "timestamp": 1604615584389,
     "user": {
      "displayName": "Buomsoo Kim",
      "photoUrl": "",
      "userId": "18268696804115368229"
     },
     "user_tz": 420
    },
    "id": "HuLThu07iLmU",
    "outputId": "8d9ce1e4-e0ec-41e8-80b0-ab05dd900e18"
   },
   "outputs": [
    {
     "name": "stdout",
     "output_type": "stream",
     "text": [
      "4/4 [==============================] - 0s 8ms/step - loss: 66.5349 - mse: 66.5349\n"
     ]
    }
   ],
   "source": [
    "results = model.evaluate(X_test, y_test)"
   ]
  },
  {
   "cell_type": "code",
   "execution_count": 14,
   "metadata": {
    "colab": {
     "base_uri": "https://localhost:8080/"
    },
    "executionInfo": {
     "elapsed": 548,
     "status": "ok",
     "timestamp": 1604615584689,
     "user": {
      "displayName": "Buomsoo Kim",
      "photoUrl": "",
      "userId": "18268696804115368229"
     },
     "user_tz": 420
    },
    "id": "VTHbM8FaiLmW",
    "outputId": "a21911b0-6624-4d6f-e62d-e749c8559966"
   },
   "outputs": [
    {
     "name": "stdout",
     "output_type": "stream",
     "text": [
      "['loss', 'mse']\n",
      "[66.53491973876953, 66.53491973876953]\n"
     ]
    }
   ],
   "source": [
    "print(model.metrics_names)     # list of metric names the model is employing\n",
    "print(results)                 # actual figure of metrics computed"
   ]
  },
  {
   "cell_type": "code",
   "execution_count": 15,
   "metadata": {
    "colab": {
     "base_uri": "https://localhost:8080/"
    },
    "executionInfo": {
     "elapsed": 630,
     "status": "ok",
     "timestamp": 1604615585972,
     "user": {
      "displayName": "Buomsoo Kim",
      "photoUrl": "",
      "userId": "18268696804115368229"
     },
     "user_tz": 420
    },
    "id": "8Ni7tqtNiLmY",
    "outputId": "fc666718-4cd3-43c7-e4be-245e221fedf9"
   },
   "outputs": [
    {
     "name": "stdout",
     "output_type": "stream",
     "text": [
      "loss:  66.53491973876953\n",
      "mse:  66.53491973876953\n"
     ]
    }
   ],
   "source": [
    "print('loss: ', results[0])\n",
    "print('mse: ', results[1])"
   ]
  },
  {
   "cell_type": "markdown",
   "metadata": {},
   "source": [
    "### 4. Prediction\n",
    "- Use predict() function of Keras to predict"
   ]
  },
  {
   "cell_type": "code",
   "execution_count": 16,
   "metadata": {},
   "outputs": [
    {
     "name": "stdout",
     "output_type": "stream",
     "text": [
      "input: [ 18.0846   0.      18.1      0.       0.679    6.434  100.       1.8347\n",
      "  24.     666.      20.2     27.25    29.05  ]\n",
      "ground truth: 7.2\n",
      "1/1 [==============================] - 0s 163ms/step\n",
      "prediction: [[15.759816]]\n"
     ]
    }
   ],
   "source": [
    "import tensorflow as tf\n",
    "\n",
    "print ('input:', X_test[0])\n",
    "print ('ground truth:', y_test[0])\n",
    "pred_y = model.predict(tf.expand_dims(X_test[0], axis=0))\n",
    "print ('prediction:', pred_y)"
   ]
  },
  {
   "cell_type": "markdown",
   "metadata": {
    "id": "FCGlFQDIiLma"
   },
   "source": [
    "## MLP for classification tasks\n",
    "- When the target (**y**) is discrete (categorical)\n",
    "- For loss function, cross-entropy is used and for evaluation metric, accuracy is commonly used"
   ]
  },
  {
   "cell_type": "markdown",
   "metadata": {
    "id": "lAhF7aAJiLmn"
   },
   "source": [
    "### Dataset Description\n",
    "- CIFAR-10 dataset contains 60,000 images in 10 classes - 50,000 for training and 10,000 for testing\n",
    "- For more information, refer to [this Wikipedia article](https://en.wikipedia.org/wiki/CIFAR-10) or [Alex Krizhevsky's web site](https://www.cs.toronto.edu/~kriz/cifar.html)"
   ]
  },
  {
   "cell_type": "code",
   "execution_count": 17,
   "metadata": {
    "executionInfo": {
     "elapsed": 386,
     "status": "ok",
     "timestamp": 1604684695071,
     "user": {
      "displayName": "Buomsoo Kim",
      "photoUrl": "",
      "userId": "18268696804115368229"
     },
     "user_tz": 420
    },
    "id": "vD1Pzzfyi2el"
   },
   "outputs": [],
   "source": [
    "from tensorflow.keras.datasets import cifar10\n",
    "from tensorflow.keras.utils import to_categorical"
   ]
  },
  {
   "cell_type": "code",
   "execution_count": 18,
   "metadata": {
    "colab": {
     "base_uri": "https://localhost:8080/"
    },
    "executionInfo": {
     "elapsed": 8074,
     "status": "ok",
     "timestamp": 1604684705146,
     "user": {
      "displayName": "Buomsoo Kim",
      "photoUrl": "",
      "userId": "18268696804115368229"
     },
     "user_tz": 420
    },
    "id": "z0fwviGBi4JF",
    "outputId": "4a10b1f6-17ca-48fc-888c-6b905366ad94"
   },
   "outputs": [
    {
     "name": "stdout",
     "output_type": "stream",
     "text": [
      "Downloading data from https://www.cs.toronto.edu/~kriz/cifar-10-python.tar.gz\n",
      "170498071/170498071 [==============================] - 72s 0us/step\n",
      "(50000, 3072) (10000, 3072) (50000, 10) (10000, 10)\n"
     ]
    }
   ],
   "source": [
    "# load data and flatten X data to fit into MLP\n",
    "(x_train, y_train), (x_test, y_test) = cifar10.load_data()\n",
    "x_train, x_test = x_train.reshape(x_train.shape[0], -1), x_test.reshape(x_test.shape[0], -1)\n",
    "y_train, y_test = to_categorical(y_train), to_categorical(y_test)\n",
    "print(x_train.shape, x_test.shape, y_train.shape, y_test.shape)"
   ]
  },
  {
   "cell_type": "markdown",
   "metadata": {
    "id": "yDfUxLydiLmr"
   },
   "source": [
    "### 1. Creating a model\n",
    "- Same with regression model - use ```Sequential()```"
   ]
  },
  {
   "cell_type": "code",
   "execution_count": 19,
   "metadata": {
    "executionInfo": {
     "elapsed": 385,
     "status": "ok",
     "timestamp": 1604684708274,
     "user": {
      "displayName": "Buomsoo Kim",
      "photoUrl": "",
      "userId": "18268696804115368229"
     },
     "user_tz": 420
    },
    "id": "otQOT-jKiLmu"
   },
   "outputs": [],
   "source": [
    "model = Sequential()"
   ]
  },
  {
   "cell_type": "markdown",
   "metadata": {
    "id": "z8xmzpbTiLmy"
   },
   "source": [
    "### 1-1. Adding layers\n",
    "- Keras layers can be **added** to the model\n",
    "- Adding layers are like stacking lego blocks one by one\n",
    "- It should be noted that as this is a classification problem, sigmoid layer (softmax for multi-class problems) should be added\n",
    "- Doc: https://keras.io/layers/core/"
   ]
  },
  {
   "cell_type": "code",
   "execution_count": 20,
   "metadata": {
    "executionInfo": {
     "elapsed": 366,
     "status": "ok",
     "timestamp": 1604684709460,
     "user": {
      "displayName": "Buomsoo Kim",
      "photoUrl": "",
      "userId": "18268696804115368229"
     },
     "user_tz": 420
    },
    "id": "_6WRFmz2iLmy"
   },
   "outputs": [],
   "source": [
    "# Keras model with two hidden layer with 10 neurons each \n",
    "model.add(Dense(50, input_shape = (x_train.shape[-1],)))    # Input layer => input_shape should be explicitly designated\n",
    "model.add(Activation('sigmoid'))\n",
    "model.add(Dense(50))                         # Hidden layer => only output dimension should be designated\n",
    "model.add(Activation('sigmoid'))\n",
    "model.add(Dense(50))                         # Hidden layer => only output dimension should be designated\n",
    "model.add(Activation('sigmoid'))\n",
    "model.add(Dense(10))                          # Output layer => output dimension = 1 since it is regression problem\n",
    "model.add(Activation('sigmoid'))"
   ]
  },
  {
   "cell_type": "markdown",
   "metadata": {
    "id": "KDYGhWuHiLm0"
   },
   "source": [
    "# This is equivalent to the above code block\n",
    "model.add(Dense(50, input_shape = (x_train.shape[-1],), activation = 'sigmoid')) \\\n",
    "model.add(Dense(50, activation = 'sigmoid')) \\\n",
    "model.add(Dense(50, activation = 'sigmoid')) \\\n",
    "model.add(Dense(10, activation = 'sigmoid'))"
   ]
  },
  {
   "cell_type": "markdown",
   "metadata": {
    "id": "e5a1P3tTiLm2"
   },
   "source": [
    "### 1-2. Model compile\n",
    "- Keras model should be \"compiled\" prior to training\n",
    "- Types of loss (function) and optimizer should be designated\n",
    "    - Doc (optimizers): https://keras.io/optimizers/\n",
    "    - Doc (losses): https://keras.io/losses/"
   ]
  },
  {
   "cell_type": "code",
   "execution_count": 21,
   "metadata": {
    "executionInfo": {
     "elapsed": 428,
     "status": "ok",
     "timestamp": 1604684713367,
     "user": {
      "displayName": "Buomsoo Kim",
      "photoUrl": "",
      "userId": "18268696804115368229"
     },
     "user_tz": 420
    },
    "id": "GXaGu_ebiLm2"
   },
   "outputs": [],
   "source": [
    "from tensorflow.keras import optimizers"
   ]
  },
  {
   "cell_type": "code",
   "execution_count": 22,
   "metadata": {
    "executionInfo": {
     "elapsed": 342,
     "status": "ok",
     "timestamp": 1604684713695,
     "user": {
      "displayName": "Buomsoo Kim",
      "photoUrl": "",
      "userId": "18268696804115368229"
     },
     "user_tz": 420
    },
    "id": "_vdJBNmziLm5"
   },
   "outputs": [],
   "source": [
    "sgd = optimizers.SGD(learning_rate=0.01, momentum=0.0)    # stochastic gradient descent optimizer"
   ]
  },
  {
   "cell_type": "code",
   "execution_count": 23,
   "metadata": {
    "executionInfo": {
     "elapsed": 443,
     "status": "ok",
     "timestamp": 1604684714603,
     "user": {
      "displayName": "Buomsoo Kim",
      "photoUrl": "",
      "userId": "18268696804115368229"
     },
     "user_tz": 420
    },
    "id": "8KxYO7rqiLm7"
   },
   "outputs": [],
   "source": [
    "model.compile(optimizer = sgd, loss = 'categorical_crossentropy', metrics = ['accuracy'])"
   ]
  },
  {
   "cell_type": "markdown",
   "metadata": {
    "id": "jUWLl1gpiLm9"
   },
   "source": [
    "### Summary of the model"
   ]
  },
  {
   "cell_type": "code",
   "execution_count": 24,
   "metadata": {
    "colab": {
     "base_uri": "https://localhost:8080/"
    },
    "executionInfo": {
     "elapsed": 298,
     "status": "ok",
     "timestamp": 1604684719834,
     "user": {
      "displayName": "Buomsoo Kim",
      "photoUrl": "",
      "userId": "18268696804115368229"
     },
     "user_tz": 420
    },
    "id": "wtKl8bY_iLm9",
    "outputId": "4c1ddf27-f333-4510-b36d-b27daf8c801c",
    "scrolled": true
   },
   "outputs": [
    {
     "name": "stdout",
     "output_type": "stream",
     "text": [
      "Model: \"sequential_1\"\n",
      "_________________________________________________________________\n",
      " Layer (type)                Output Shape              Param #   \n",
      "=================================================================\n",
      " dense_4 (Dense)             (None, 50)                153650    \n",
      "                                                                 \n",
      " activation_3 (Activation)   (None, 50)                0         \n",
      "                                                                 \n",
      " dense_5 (Dense)             (None, 50)                2550      \n",
      "                                                                 \n",
      " activation_4 (Activation)   (None, 50)                0         \n",
      "                                                                 \n",
      " dense_6 (Dense)             (None, 50)                2550      \n",
      "                                                                 \n",
      " activation_5 (Activation)   (None, 50)                0         \n",
      "                                                                 \n",
      " dense_7 (Dense)             (None, 10)                510       \n",
      "                                                                 \n",
      " activation_6 (Activation)   (None, 10)                0         \n",
      "                                                                 \n",
      "=================================================================\n",
      "Total params: 159,260\n",
      "Trainable params: 159,260\n",
      "Non-trainable params: 0\n",
      "_________________________________________________________________\n"
     ]
    }
   ],
   "source": [
    "model.summary()"
   ]
  },
  {
   "cell_type": "markdown",
   "metadata": {
    "id": "9dThMtLWiLm_"
   },
   "source": [
    "### 2. Training\n",
    "- Training the model with training data provided"
   ]
  },
  {
   "cell_type": "code",
   "execution_count": 25,
   "metadata": {
    "colab": {
     "base_uri": "https://localhost:8080/"
    },
    "executionInfo": {
     "elapsed": 111401,
     "status": "ok",
     "timestamp": 1604684834871,
     "user": {
      "displayName": "Buomsoo Kim",
      "photoUrl": "",
      "userId": "18268696804115368229"
     },
     "user_tz": 420
    },
    "id": "B_IHzSh8iLm_",
    "outputId": "0bf23bfb-c12d-462c-deb0-59b8eb22e247"
   },
   "outputs": [
    {
     "name": "stdout",
     "output_type": "stream",
     "text": [
      "Epoch 1/50\n",
      "391/391 [==============================] - 3s 6ms/step - loss: 2.3131 - accuracy: 0.1149\n",
      "Epoch 2/50\n",
      "391/391 [==============================] - 3s 7ms/step - loss: 2.2923 - accuracy: 0.1766\n",
      "Epoch 3/50\n",
      "391/391 [==============================] - 3s 7ms/step - loss: 2.2853 - accuracy: 0.1980\n",
      "Epoch 4/50\n",
      "391/391 [==============================] - 3s 6ms/step - loss: 2.2772 - accuracy: 0.2192\n",
      "Epoch 5/50\n",
      "391/391 [==============================] - 3s 7ms/step - loss: 2.2674 - accuracy: 0.2243\n",
      "Epoch 6/50\n",
      "391/391 [==============================] - 3s 7ms/step - loss: 2.2553 - accuracy: 0.2259\n",
      "Epoch 7/50\n",
      "391/391 [==============================] - 2s 6ms/step - loss: 2.2394 - accuracy: 0.2308\n",
      "Epoch 8/50\n",
      "391/391 [==============================] - 3s 7ms/step - loss: 2.2193 - accuracy: 0.2292\n",
      "Epoch 9/50\n",
      "391/391 [==============================] - 3s 7ms/step - loss: 2.1916 - accuracy: 0.2328\n",
      "Epoch 10/50\n",
      "391/391 [==============================] - 3s 6ms/step - loss: 2.1616 - accuracy: 0.2338\n",
      "Epoch 11/50\n",
      "391/391 [==============================] - 3s 7ms/step - loss: 2.1330 - accuracy: 0.2338\n",
      "Epoch 12/50\n",
      "391/391 [==============================] - 3s 7ms/step - loss: 2.1105 - accuracy: 0.2318\n",
      "Epoch 13/50\n",
      "391/391 [==============================] - 2s 6ms/step - loss: 2.0928 - accuracy: 0.2339\n",
      "Epoch 14/50\n",
      "391/391 [==============================] - 2s 6ms/step - loss: 2.0820 - accuracy: 0.2347\n",
      "Epoch 15/50\n",
      "391/391 [==============================] - 3s 6ms/step - loss: 2.0720 - accuracy: 0.2362\n",
      "Epoch 16/50\n",
      "391/391 [==============================] - 3s 7ms/step - loss: 2.0659 - accuracy: 0.2365\n",
      "Epoch 17/50\n",
      "391/391 [==============================] - 3s 6ms/step - loss: 2.0602 - accuracy: 0.2398\n",
      "Epoch 18/50\n",
      "391/391 [==============================] - 2s 6ms/step - loss: 2.0540 - accuracy: 0.2419\n",
      "Epoch 19/50\n",
      "391/391 [==============================] - 2s 6ms/step - loss: 2.0547 - accuracy: 0.2428\n",
      "Epoch 20/50\n",
      "391/391 [==============================] - 2s 6ms/step - loss: 2.0510 - accuracy: 0.2411\n",
      "Epoch 21/50\n",
      "391/391 [==============================] - 3s 7ms/step - loss: 2.0450 - accuracy: 0.2433\n",
      "Epoch 22/50\n",
      "391/391 [==============================] - 3s 6ms/step - loss: 2.0421 - accuracy: 0.2495\n",
      "Epoch 23/50\n",
      "391/391 [==============================] - 3s 7ms/step - loss: 2.0455 - accuracy: 0.2412\n",
      "Epoch 24/50\n",
      "391/391 [==============================] - 3s 7ms/step - loss: 2.0390 - accuracy: 0.2478\n",
      "Epoch 25/50\n",
      "391/391 [==============================] - 3s 7ms/step - loss: 2.0386 - accuracy: 0.2440\n",
      "Epoch 26/50\n",
      "391/391 [==============================] - 3s 7ms/step - loss: 2.0413 - accuracy: 0.2459\n",
      "Epoch 27/50\n",
      "391/391 [==============================] - 3s 7ms/step - loss: 2.0331 - accuracy: 0.2430\n",
      "Epoch 28/50\n",
      "391/391 [==============================] - 3s 6ms/step - loss: 2.0341 - accuracy: 0.2462\n",
      "Epoch 29/50\n",
      "391/391 [==============================] - 2s 6ms/step - loss: 2.0321 - accuracy: 0.2509\n",
      "Epoch 30/50\n",
      "391/391 [==============================] - 2s 6ms/step - loss: 2.0338 - accuracy: 0.2531\n",
      "Epoch 31/50\n",
      "391/391 [==============================] - 2s 6ms/step - loss: 2.0335 - accuracy: 0.2460\n",
      "Epoch 32/50\n",
      "391/391 [==============================] - 2s 6ms/step - loss: 2.0296 - accuracy: 0.2463\n",
      "Epoch 33/50\n",
      "391/391 [==============================] - 2s 6ms/step - loss: 2.0320 - accuracy: 0.2468\n",
      "Epoch 34/50\n",
      "391/391 [==============================] - 2s 6ms/step - loss: 2.0265 - accuracy: 0.2478\n",
      "Epoch 35/50\n",
      "391/391 [==============================] - 2s 6ms/step - loss: 2.0278 - accuracy: 0.2475\n",
      "Epoch 36/50\n",
      "391/391 [==============================] - 3s 6ms/step - loss: 2.0206 - accuracy: 0.2473\n",
      "Epoch 37/50\n",
      "391/391 [==============================] - 3s 7ms/step - loss: 2.0247 - accuracy: 0.2454\n",
      "Epoch 38/50\n",
      "391/391 [==============================] - 3s 7ms/step - loss: 2.0303 - accuracy: 0.2495\n",
      "Epoch 39/50\n",
      "391/391 [==============================] - 4s 9ms/step - loss: 2.0222 - accuracy: 0.2460\n",
      "Epoch 40/50\n",
      "391/391 [==============================] - 2s 6ms/step - loss: 2.0202 - accuracy: 0.2439\n",
      "Epoch 41/50\n",
      "391/391 [==============================] - 2s 6ms/step - loss: 2.0183 - accuracy: 0.2451\n",
      "Epoch 42/50\n",
      "391/391 [==============================] - 2s 6ms/step - loss: 2.0136 - accuracy: 0.2475\n",
      "Epoch 43/50\n",
      "391/391 [==============================] - 2s 6ms/step - loss: 2.0163 - accuracy: 0.2485\n",
      "Epoch 44/50\n",
      "391/391 [==============================] - 2s 6ms/step - loss: 2.0374 - accuracy: 0.2459\n",
      "Epoch 45/50\n",
      "391/391 [==============================] - 2s 6ms/step - loss: 2.0240 - accuracy: 0.2445\n",
      "Epoch 46/50\n",
      "391/391 [==============================] - 2s 6ms/step - loss: 2.0181 - accuracy: 0.2466\n",
      "Epoch 47/50\n",
      "391/391 [==============================] - 3s 6ms/step - loss: 2.0482 - accuracy: 0.2410\n",
      "Epoch 48/50\n",
      "391/391 [==============================] - 3s 7ms/step - loss: 2.0432 - accuracy: 0.2400\n",
      "Epoch 49/50\n",
      "391/391 [==============================] - 3s 7ms/step - loss: 2.0502 - accuracy: 0.2428\n",
      "Epoch 50/50\n",
      "391/391 [==============================] - 3s 7ms/step - loss: 2.0451 - accuracy: 0.2365\n"
     ]
    },
    {
     "data": {
      "text/plain": [
       "<keras.callbacks.History at 0x16227d00d10>"
      ]
     },
     "execution_count": 25,
     "metadata": {},
     "output_type": "execute_result"
    }
   ],
   "source": [
    "model.fit(x_train, y_train, batch_size = 128, epochs = 50, verbose = 1)"
   ]
  },
  {
   "cell_type": "markdown",
   "metadata": {
    "id": "ZH8bF3CHiLnC"
   },
   "source": [
    "### 3. Evaluation\n",
    "- Keras model can be evaluated with evaluate() function\n",
    "- Evaluation results are contained in a list\n",
    "    - Doc (metrics): https://keras.io/metrics/"
   ]
  },
  {
   "cell_type": "code",
   "execution_count": 26,
   "metadata": {
    "colab": {
     "base_uri": "https://localhost:8080/"
    },
    "executionInfo": {
     "elapsed": 964,
     "status": "ok",
     "timestamp": 1604684874377,
     "user": {
      "displayName": "Buomsoo Kim",
      "photoUrl": "",
      "userId": "18268696804115368229"
     },
     "user_tz": 420
    },
    "id": "6XygNcssiLnC",
    "outputId": "4b8f83c2-cd92-4b24-f701-eee18c174969"
   },
   "outputs": [
    {
     "name": "stdout",
     "output_type": "stream",
     "text": [
      "313/313 [==============================] - 1s 2ms/step - loss: 2.0838 - accuracy: 0.2230\n"
     ]
    }
   ],
   "source": [
    "results = model.evaluate(x_test, y_test)"
   ]
  },
  {
   "cell_type": "code",
   "execution_count": 27,
   "metadata": {
    "colab": {
     "base_uri": "https://localhost:8080/"
    },
    "executionInfo": {
     "elapsed": 313,
     "status": "ok",
     "timestamp": 1604684876500,
     "user": {
      "displayName": "Buomsoo Kim",
      "photoUrl": "",
      "userId": "18268696804115368229"
     },
     "user_tz": 420
    },
    "id": "qfGWjFVQiLnE",
    "outputId": "ea962a35-74ff-4d5c-f16e-458bdccf705c"
   },
   "outputs": [
    {
     "name": "stdout",
     "output_type": "stream",
     "text": [
      "['loss', 'accuracy']\n",
      "[2.0837841033935547, 0.22300000488758087]\n"
     ]
    }
   ],
   "source": [
    "print(model.metrics_names)     # list of metric names the model is employing\n",
    "print(results)                 # actual figure of metrics computed"
   ]
  },
  {
   "cell_type": "code",
   "execution_count": 28,
   "metadata": {
    "colab": {
     "base_uri": "https://localhost:8080/"
    },
    "executionInfo": {
     "elapsed": 328,
     "status": "ok",
     "timestamp": 1604684878946,
     "user": {
      "displayName": "Buomsoo Kim",
      "photoUrl": "",
      "userId": "18268696804115368229"
     },
     "user_tz": 420
    },
    "id": "ViMt9l_7iLnH",
    "outputId": "f86d7092-f071-4173-aa16-d424aa198474"
   },
   "outputs": [
    {
     "name": "stdout",
     "output_type": "stream",
     "text": [
      "loss:  2.0837841033935547\n",
      "accuracy:  0.22300000488758087\n"
     ]
    }
   ],
   "source": [
    "# printing out the results separately\n",
    "print('loss: ', results[0])\n",
    "print('accuracy: ', results[1])"
   ]
  },
  {
   "cell_type": "code",
   "execution_count": null,
   "metadata": {},
   "outputs": [],
   "source": []
  }
 ],
 "metadata": {
  "colab": {
   "collapsed_sections": [],
   "name": "1-Basics-of-MLP.ipynb",
   "provenance": []
  },
  "kernelspec": {
   "display_name": "Python 3 (ipykernel)",
   "language": "python",
   "name": "python3"
  },
  "language_info": {
   "codemirror_mode": {
    "name": "ipython",
    "version": 3
   },
   "file_extension": ".py",
   "mimetype": "text/x-python",
   "name": "python",
   "nbconvert_exporter": "python",
   "pygments_lexer": "ipython3",
   "version": "3.11.11"
  }
 },
 "nbformat": 4,
 "nbformat_minor": 4
}
