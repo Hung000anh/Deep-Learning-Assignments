{
 "cells": [
  {
   "attachments": {},
   "cell_type": "markdown",
   "id": "725fc2da-6bfe-4e06-8495-c789b8829b01",
   "metadata": {},
   "source": [
    "# Báo cáo giữa kỳ\n",
    "Dùng keras để xây dựng mô hình deep learning để nhận dạng các đối tượng trong tự nhiên gồm: <br>\n",
    "airplane<br>\n",
    "car<br>\n",
    "cat<br>\n",
    "dog<br>\n",
    "flower<br>\n",
    "fruit<br>\n",
    "motobike<br>\n",
    "fruit<br>\n",
    "person<br>\n",
    "Ảnh bông hoa ví dụ để test mô hình, kích thước của ảnh test sẽ được scale về <strong>224x224</strong>:<br>\n",
    "<img src=\"example.jpg\" alt=\"\" style=\"width:224px; heoght:224px\"/><br>"
   ]
  },
  {
   "cell_type": "code",
   "execution_count": null,
   "id": "b2493a80-f317-45bd-a955-6f4a2bb857e1",
   "metadata": {},
   "outputs": [],
   "source": []
  },
  {
   "cell_type": "code",
   "execution_count": null,
   "id": "aa24de91-3ee2-429d-b685-d698370d8525",
   "metadata": {},
   "outputs": [],
   "source": []
  }
 ],
 "metadata": {
  "kernelspec": {
   "display_name": "Python 3 (ipykernel)",
   "language": "python",
   "name": "python3"
  },
  "language_info": {
   "codemirror_mode": {
    "name": "ipython",
    "version": 3
   },
   "file_extension": ".py",
   "mimetype": "text/x-python",
   "name": "python",
   "nbconvert_exporter": "python",
   "pygments_lexer": "ipython3",
   "version": "3.11.11"
  }
 },
 "nbformat": 4,
 "nbformat_minor": 5
}
